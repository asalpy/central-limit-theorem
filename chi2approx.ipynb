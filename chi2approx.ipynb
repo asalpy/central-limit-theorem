{
 "cells": [
  {
   "cell_type": "markdown",
   "metadata": {},
   "source": [
    "# Центральная предельная теорема своими руками"
   ]
  },
  {
   "cell_type": "code",
   "execution_count": 4,
   "metadata": {},
   "outputs": [],
   "source": [
    "import pandas as pd\n",
    "import numpy as np\n",
    "import matplotlib.pyplot as plt\n",
    "import math\n",
    "import scipy.stats as sts\n",
    "%matplotlib inline"
   ]
  },
  {
   "cell_type": "markdown",
   "metadata": {},
   "source": [
    "## Распределение хи-квадрат"
   ]
  },
  {
   "cell_type": "markdown",
   "metadata": {},
   "source": [
    "Получить представление про распределение хи-квадрат можно, например, [здесь](https://ru.wikipedia.org/wiki/Распределение_хи-квадрат)"
   ]
  },
  {
   "cell_type": "markdown",
   "metadata": {},
   "source": [
    "Математическое ожидание распределения $\\chi^2$ с $k$ степенями свободы: $E[x] = k$ "
   ]
  },
  {
   "cell_type": "markdown",
   "metadata": {},
   "source": [
    "Дисперсия распределения $\\chi^2$ с $k$ степенями свободы: $D[x] = 2k$ "
   ]
  },
  {
   "cell_type": "markdown",
   "metadata": {},
   "source": [
    "В расчётах будем использовать $k = 4$. Вычислим математическое ожидание и дисперсию:"
   ]
  },
  {
   "cell_type": "code",
   "execution_count": 5,
   "metadata": {},
   "outputs": [
    {
     "name": "stdout",
     "output_type": "stream",
     "text": [
      "4.0 8.0\n"
     ]
    }
   ],
   "source": [
    "# Вычислим математическое ожидание и дисперсию для k = 4\n",
    "k = 4.\n",
    "E = k\n",
    "D = 2*k\n",
    "print E, D"
   ]
  },
  {
   "cell_type": "markdown",
   "metadata": {},
   "source": [
    "Таким образом, $$E[x] = 4,$$ $$D[x] = 8$$"
   ]
  },
  {
   "cell_type": "markdown",
   "metadata": {},
   "source": [
    "Сгенерируем выборку объёмом 1000 из распределения $\\chi^2$ с четырьмя степенями свободы."
   ]
  },
  {
   "cell_type": "code",
   "execution_count": 6,
   "metadata": {},
   "outputs": [
    {
     "name": "stderr",
     "output_type": "stream",
     "text": [
      "/Users/admin/anaconda2/lib/python2.7/site-packages/matplotlib/axes/_axes.py:6571: UserWarning: The 'normed' kwarg is deprecated, and has been replaced by the 'density' kwarg.\n",
      "  warnings.warn(\"The 'normed' kwarg is deprecated, and has been \"\n"
     ]
    },
    {
     "data": {
      "text/plain": [
       "<matplotlib.legend.Legend at 0x1a1c6e2110>"
      ]
     },
     "execution_count": 6,
     "metadata": {},
     "output_type": "execute_result"
    },
    {
     "data": {
      "image/png": "[encoded data removed]",
      "text/plain": [
       "<Figure size 432x288 with 1 Axes>"
      ]
     },
     "metadata": {
      "needs_background": "light"
     },
     "output_type": "display_data"
    }
   ],
   "source": [
    "# Задаём функцию\n",
    "chi_sq = sts.chi2(k)\n",
    "\n",
    "# Генерируем выборку\n",
    "sample = chi_sq.rvs(1000)\n",
    "\n",
    "# Задаём массив точек для построения графика\n",
    "x = np.linspace(1, 10, 1000)\n",
    "\n",
    "# Вычисляем значение плотности распределения\n",
    "pdf = chi_sq.pdf(x)\n",
    "\n",
    "# Строим график теоретической плотности распределения\n",
    "plt.plot(x, pdf, label='Theoretical PDF')\n",
    "\n",
    "# Строим гистограмму выборки\n",
    "plt.hist(sample, bins = 50, range=(1,10), normed=True)\n",
    "\n",
    "plt.ylabel('fraction of samples')\n",
    "plt.xlabel('$x$')\n",
    "plt.legend(loc='best')"
   ]
  },
  {
   "cell_type": "markdown",
   "metadata": {},
   "source": [
    "## Оценка распределения выборочного среднего при разных объёмах выборок"
   ]
  },
  {
   "cell_type": "code",
   "execution_count": 15,
   "metadata": {},
   "outputs": [],
   "source": [
    "# Функция генерирует N выборок объёма n из распределения statfun и возвращает массив выборочных средних выборок\n",
    "\n",
    "def generate_means(n, statfun, N):  \n",
    "    means = np.array([]) # Массив выборочных средних\n",
    "\n",
    "    for i in range(N):\n",
    "        means = np.append(means, sum(chi_sq.rvs(n))/n) # Вычисляем выборочное среднее\n",
    "                                                       # и добавляем выборочное среднее в массив\n",
    "    return means"
   ]
  },
  {
   "cell_type": "code",
   "execution_count": 23,
   "metadata": {},
   "outputs": [],
   "source": [
    "# Функция задаёт аппроксимирующее нормальное распределение для выборки means объёма n с параметрами\n",
    "# исходного распределения statfun мат. ожиданием E и дисперсией D и отрисовывает гистограмму и график\n",
    "\n",
    "def approximate_norm(means, n, E, D):\n",
    "    # Определим параметры нормального распределения,\n",
    "    # описывающего массив выборочных средних при n\n",
    "\n",
    "    # Математическое ожидание\n",
    "    En = E\n",
    "    # Дисперсия\n",
    "    Dn = D / n\n",
    "    # Среднеквадратическое отклонение\n",
    "    sigma = math.sqrt(Dn)\n",
    "\n",
    "    print 'Математическое ожидание и среднеквадратическое отклонение:', En, sigma\n",
    "\n",
    "    # Задаём нормальное распределение\n",
    "    norm = sts.norm(En, sigma)\n",
    "\n",
    "    # Вычисляем значение плотности распределения\n",
    "    pdf = norm.pdf(x)\n",
    "\n",
    "    # Строим график плотности распределения\n",
    "    plt.plot(x, pdf, label='PDF (n=%i)' % n)\n",
    "\n",
    "    # Строим гистограмму выборки\n",
    "    plt.hist(means, bins = 100, range=(1, 10), normed=True)\n",
    "\n",
    "    plt.ylabel('fraction of samples')\n",
    "    plt.xlabel('$x$')\n",
    "    plt.legend(loc='best')"
   ]
  },
  {
   "cell_type": "markdown",
   "metadata": {},
   "source": [
    "### при n = 3"
   ]
  },
  {
   "cell_type": "markdown",
   "metadata": {},
   "source": [
    "Сгенерируем 1000 выборок объёмом 3 из распределения $\\chi^2$ с четырьмя степенями свободы и построим гистограмму распределения их выборочных средних."
   ]
  },
  {
   "cell_type": "markdown",
   "metadata": {},
   "source": [
    "При этом параметры нормального распределения, описывающего выборку, можно вычислить по формулам: $$\\mu = E[x],$$ $$\\sigma = \\sqrt{\\frac{D[x]}{n}}$$"
   ]
  },
  {
   "cell_type": "markdown",
   "metadata": {},
   "source": [
    "Для $n = 3$: $$\\mu = 4, \\sigma \\approx 1.63$$"
   ]
  },
  {
   "cell_type": "code",
   "execution_count": 24,
   "metadata": {},
   "outputs": [
    {
     "name": "stdout",
     "output_type": "stream",
     "text": [
      "Математическое ожидание и среднеквадратическое отклонение: 4.0 1.63299316186\n"
     ]
    },
    {
     "data": {
      "image/png": "[encoded data removed]",
      "text/plain": [
       "<Figure size 432x288 with 1 Axes>"
      ]
     },
     "metadata": {
      "needs_background": "light"
     },
     "output_type": "display_data"
    }
   ],
   "source": [
    "n = 3\n",
    "N = 1000\n",
    "means = generate_means(n, chi_sq, N) # Сгенерируем выборку\n",
    "\n",
    "approximate_norm(means, n, E, D) # Построим гистограмму выборки и график плотности нормального распределения\n",
    "                                 # её аппроксимирующий"
   ]
  },
  {
   "cell_type": "markdown",
   "metadata": {},
   "source": [
    "### при n = 7"
   ]
  },
  {
   "cell_type": "markdown",
   "metadata": {},
   "source": [
    "Сгенерируем 1000 выборок объёмом 7 из распределения $\\chi^2$ с четырьмя степенями свободы и построим гистограмму распределения их выборочных средних."
   ]
  },
  {
   "cell_type": "markdown",
   "metadata": {},
   "source": [
    "При этом параметры нормального распределения, описывающего выборку, можно вычислить по формулам: $$\\mu = E[x],$$ $$\\sigma = \\sqrt{\\frac{D[x]}{n}}$$"
   ]
  },
  {
   "cell_type": "markdown",
   "metadata": {},
   "source": [
    "Для $n = 7$: $$\\mu = 4, \\sigma \\approx 1.07$$"
   ]
  },
  {
   "cell_type": "code",
   "execution_count": 25,
   "metadata": {},
   "outputs": [
    {
     "name": "stdout",
     "output_type": "stream",
     "text": [
      "Математическое ожидание и среднеквадратическое отклонение: 4.0 1.06904496765\n"
     ]
    },
    {
     "data": {
      "image/png": "[encoded data removed]",
      "text/plain": [
       "<Figure size 432x288 with 1 Axes>"
      ]
     },
     "metadata": {
      "needs_background": "light"
     },
     "output_type": "display_data"
    }
   ],
   "source": [
    "n = 7\n",
    "N = 1000\n",
    "means = generate_means(n, chi_sq, N) # Сгенерируем выборку\n",
    "\n",
    "approximate_norm(means, n, E, D) # Построим гистограмму выборки и график плотности нормального распределения\n",
    "                                 # её аппроксимирующий"
   ]
  },
  {
   "cell_type": "markdown",
   "metadata": {},
   "source": [
    "### при n = 50"
   ]
  },
  {
   "cell_type": "markdown",
   "metadata": {},
   "source": [
    "Сгенерируем 1000 выборок объёмом 50 из распределения $\\chi^2$ с четырьмя степенями свободы и построим гистограмму распределения их выборочных средних."
   ]
  },
  {
   "cell_type": "markdown",
   "metadata": {},
   "source": [
    "При этом параметры нормального распределения, описывающего выборку, можно вычислить по формулам: $$\\mu = E[x],$$ $$\\sigma = \\sqrt{\\frac{D[x]}{n}}$$"
   ]
  },
  {
   "cell_type": "markdown",
   "metadata": {},
   "source": [
    "Для $n = 50$: $$\\mu = 4, \\sigma \\approx 0.4$$"
   ]
  },
  {
   "cell_type": "code",
   "execution_count": 26,
   "metadata": {},
   "outputs": [
    {
     "name": "stdout",
     "output_type": "stream",
     "text": [
      "Математическое ожидание и среднеквадратическое отклонение: 4.0 0.4\n"
     ]
    },
    {
     "data": {
      "image/png": "[encoded data removed]",
      "text/plain": [
       "<Figure size 432x288 with 1 Axes>"
      ]
     },
     "metadata": {
      "needs_background": "light"
     },
     "output_type": "display_data"
    }
   ],
   "source": [
    "n = 50\n",
    "N = 1000\n",
    "means = generate_means(n, chi_sq, N) # Сгенерируем выборку\n",
    "\n",
    "approximate_norm(means, n, E, D) # Построим гистограмму выборки и график плотности нормального распределения\n",
    "                                 # её аппроксимирующий"
   ]
  },
  {
   "cell_type": "markdown",
   "metadata": {},
   "source": [
    "### при n = 500"
   ]
  },
  {
   "cell_type": "markdown",
   "metadata": {},
   "source": [
    "Сгенерируем 1000 выборок объёмом 500 из распределения $\\chi^2$ с четырьмя степенями свободы и построим гистограмму распределения их выборочных средних."
   ]
  },
  {
   "cell_type": "markdown",
   "metadata": {},
   "source": [
    "При этом параметры нормального распределения, описывающего выборку, можно вычислить по формулам: $$\\mu = E[x],$$ $$\\sigma = \\sqrt{\\frac{D[x]}{n}}$$"
   ]
  },
  {
   "cell_type": "markdown",
   "metadata": {},
   "source": [
    "Для $n = 500$: $$\\mu = 4, \\sigma \\approx 0.13$$"
   ]
  },
  {
   "cell_type": "code",
   "execution_count": 27,
   "metadata": {},
   "outputs": [
    {
     "name": "stdout",
     "output_type": "stream",
     "text": [
      "Математическое ожидание и среднеквадратическое отклонение: 4.0 0.126491106407\n"
     ]
    },
    {
     "data": {
      "image/png": "[encoded data removed]",
      "text/plain": [
       "<Figure size 432x288 with 1 Axes>"
      ]
     },
     "metadata": {
      "needs_background": "light"
     },
     "output_type": "display_data"
    }
   ],
   "source": [
    "n = 500\n",
    "N = 1000\n",
    "means = generate_means(n, chi_sq, N) # Сгенерируем выборку\n",
    "\n",
    "approximate_norm(means, n, E, D) # Построим гистограмму выборки и график плотности нормального распределения\n",
    "                                 # её аппроксимирующий"
   ]
  },
  {
   "cell_type": "markdown",
   "metadata": {},
   "source": [
    "## Выводы"
   ]
  },
  {
   "cell_type": "markdown",
   "metadata": {},
   "source": [
    "В процессе работы были сгенерированы выборки объёмом 1000 для $n = 3, 7, 50, 500$, рассчитаны и занесены в массивы их выборочные средние, по значениям из массивов были построены гистограммы распределения выборочных средних. Рассчитаны параметры для аппроксимации нормальным распределением выборки выборочных средних для каждого значения $n$ и построены графики плотности аппроксимирующего нормального распределения для каждого значения $n$."
   ]
  },
  {
   "cell_type": "markdown",
   "metadata": {},
   "source": [
    "По полученным графикам можно сделать следующие выводы. Точность аппроксимации выборочного среднего значения непрерывной случайной величины, описываемой распределением $\\chi^2$, при увеличении $n$ повышается. В силу несимметричности плотности распределения $\\chi^2$ относительно математического ожидания (даже при $k = 4$) при $n = 3, 7$ наблюдаются пики на гистограмме левее математического ожидания нормального распределения. Их можно сгладить увеличением $n$, например, в данном случае качество аппроксимации выборочного среднего значительно повышается при $n = 50$ или при $n = 500$."
   ]
  }
 ],
 "metadata": {
  "kernelspec": {
   "display_name": "Python 2",
   "language": "python",
   "name": "python2"
  },
  "language_info": {
   "codemirror_mode": {
    "name": "ipython",
    "version": 2
   },
   "file_extension": ".py",
   "mimetype": "text/x-python",
   "name": "python",
   "nbconvert_exporter": "python",
   "pygments_lexer": "ipython2",
   "version": "2.7.16"
  }
 },
 "nbformat": 4,
 "nbformat_minor": 2
}
